{
 "cells": [
  {
   "cell_type": "code",
   "execution_count": 84,
   "id": "e8c4390d",
   "metadata": {},
   "outputs": [],
   "source": [
    "import matplotlib.pyplot as plt\n",
    "import seaborn as sns\n",
    "import numpy as np\n",
    "import scipy as sc\n",
    "import pandas as pd\n",
    "import os\n",
    "sns.set()\n",
    "\n",
    "sns.set_style('white', {'axes.linewidth': 4})\n",
    "plt.rcParams['axes.linewidth'] = 4\n",
    "plt.rcParams['xtick.major.size'] = 20\n",
    "plt.rcParams['xtick.major.width'] = 4\n",
    "plt.rcParams['ytick.major.width'] = 4\n",
    "plt.rcParams['xtick.bottom'] = True\n",
    "plt.rcParams['ytick.left'] = True\n",
    "plt.rcParams[\"font.weight\"] = \"bold\"\n",
    "plt.rcParams[\"axes.labelweight\"] = \"bold\"\n",
    "# import dataframe_image as dfi"
   ]
  },
  {
   "cell_type": "code",
   "execution_count": 85,
   "id": "2c5f1073",
   "metadata": {},
   "outputs": [],
   "source": [
    "# %pip install biopython\n",
    "import pickle\n",
    "import Bio\n",
    "from Bio.SeqUtils import GC\n",
    "from Bio.Data import CodonTable\n",
    "from Bio import Entrez\n",
    "from Bio import SeqIO\n",
    "from Bio import pairwise2 as pw\n",
    "from Bio import AlignIO\n",
    "from Bio import Align as al\n",
    "EMAIL = 's1905547@ed.ac.uk'\n",
    "Entrez.email = EMAIL\n",
    "file_sources = \"../sources/\""
   ]
  },
  {
   "cell_type": "code",
   "execution_count": 86,
   "id": "c505dd43",
   "metadata": {},
   "outputs": [],
   "source": [
    "\n",
    "#Reads the sfari gene file\n",
    "sfari = pd.read_csv(file_sources+\"SFARI-Gene_genes_11-07-2022release_11-26-2022export.csv\")\n",
    "sfari = sfari.sort_values(\"number-of-reports\", ascending=False)\n"
   ]
  },
  {
   "cell_type": "markdown",
   "id": "22da7ca6",
   "metadata": {},
   "source": [
    "## Task 1"
   ]
  },
  {
   "cell_type": "code",
   "execution_count": 87,
   "id": "3c843def",
   "metadata": {},
   "outputs": [
    {
     "data": {
      "text/html": [
       "<div>\n",
       "<style scoped>\n",
       "    .dataframe tbody tr th:only-of-type {\n",
       "        vertical-align: middle;\n",
       "    }\n",
       "\n",
       "    .dataframe tbody tr th {\n",
       "        vertical-align: top;\n",
       "    }\n",
       "\n",
       "    .dataframe thead th {\n",
       "        text-align: right;\n",
       "    }\n",
       "</style>\n",
       "<table border=\"1\" class=\"dataframe\">\n",
       "  <thead>\n",
       "    <tr style=\"text-align: right;\">\n",
       "      <th></th>\n",
       "      <th>status</th>\n",
       "      <th>gene-symbol</th>\n",
       "      <th>gene-name</th>\n",
       "      <th>ensembl-id</th>\n",
       "      <th>chromosome</th>\n",
       "      <th>genetic-category</th>\n",
       "      <th>syndromic</th>\n",
       "      <th>eagle</th>\n",
       "      <th>number-of-reports</th>\n",
       "    </tr>\n",
       "    <tr>\n",
       "      <th>gene-score</th>\n",
       "      <th></th>\n",
       "      <th></th>\n",
       "      <th></th>\n",
       "      <th></th>\n",
       "      <th></th>\n",
       "      <th></th>\n",
       "      <th></th>\n",
       "      <th></th>\n",
       "      <th></th>\n",
       "    </tr>\n",
       "  </thead>\n",
       "  <tbody>\n",
       "    <tr>\n",
       "      <th>1.0</th>\n",
       "      <td>214</td>\n",
       "      <td>214</td>\n",
       "      <td>214</td>\n",
       "      <td>214</td>\n",
       "      <td>214</td>\n",
       "      <td>214</td>\n",
       "      <td>214</td>\n",
       "      <td>142</td>\n",
       "      <td>214</td>\n",
       "    </tr>\n",
       "    <tr>\n",
       "      <th>2.0</th>\n",
       "      <td>695</td>\n",
       "      <td>695</td>\n",
       "      <td>694</td>\n",
       "      <td>686</td>\n",
       "      <td>695</td>\n",
       "      <td>693</td>\n",
       "      <td>695</td>\n",
       "      <td>8</td>\n",
       "      <td>695</td>\n",
       "    </tr>\n",
       "    <tr>\n",
       "      <th>3.0</th>\n",
       "      <td>91</td>\n",
       "      <td>91</td>\n",
       "      <td>91</td>\n",
       "      <td>91</td>\n",
       "      <td>91</td>\n",
       "      <td>91</td>\n",
       "      <td>91</td>\n",
       "      <td>0</td>\n",
       "      <td>91</td>\n",
       "    </tr>\n",
       "  </tbody>\n",
       "</table>\n",
       "</div>"
      ],
      "text/plain": [
       "            status  gene-symbol  gene-name  ensembl-id  chromosome  \\\n",
       "gene-score                                                           \n",
       "1.0            214          214        214         214         214   \n",
       "2.0            695          695        694         686         695   \n",
       "3.0             91           91         91          91          91   \n",
       "\n",
       "            genetic-category  syndromic  eagle  number-of-reports  \n",
       "gene-score                                                         \n",
       "1.0                      214        214    142                214  \n",
       "2.0                      693        695      8                695  \n",
       "3.0                       91         91      0                 91  "
      ]
     },
     "execution_count": 87,
     "metadata": {},
     "output_type": "execute_result"
    }
   ],
   "source": [
    "df_categorical_byscore = sfari.groupby(['gene-score'])\n",
    "df_categorical_byscore.count()\n"
   ]
  },
  {
   "cell_type": "code",
   "execution_count": 88,
   "id": "04b6e671",
   "metadata": {},
   "outputs": [
    {
     "data": {
      "image/png": "[encoded data removed]",
      "text/plain": [
       "<Figure size 360x360 with 1 Axes>"
      ]
     },
     "metadata": {},
     "output_type": "display_data"
    }
   ],
   "source": [
    "p1 = df_categorical_byscore.count()['gene-symbol'].plot(figsize=(5,5),kind='bar',color='black',fontsize=11,legend=False,rot=0)\n",
    "p1.bar_label(p1.containers[0],label_type='center',fontsize=11,color='white')\n",
    "\n",
    "p1.set_xlabel('Gene Score Cateogry',fontsize=11)\n",
    "p1.set_ylabel('Gene Counts',fontsize=11)\n",
    "plt.tight_layout()\n",
    "\n",
    "plt.show()"
   ]
  },
  {
   "cell_type": "markdown",
   "id": "fb8307c6",
   "metadata": {},
   "source": [
    "## Task 2"
   ]
  },
  {
   "cell_type": "code",
   "execution_count": 89,
   "id": "fcec4768",
   "metadata": {},
   "outputs": [
    {
     "data": {
      "text/plain": [
       "10.261080752884032"
      ]
     },
     "execution_count": 89,
     "metadata": {},
     "output_type": "execute_result"
    }
   ],
   "source": [
    "focus_genes = sfari[sfari['gene-score'] == 1.0][0:5].sort_values(\"number-of-reports\", ascending=False)\n",
    "focus_genes_list = focus_genes['gene-symbol'].values # Top 5 Genes\n",
    "\n",
    "(focus_genes['number-of-reports'].sum()/df_categorical_byscore['number-of-reports'].sum().values[0])*100"
   ]
  },
  {
   "cell_type": "code",
   "execution_count": 90,
   "id": "1bf1f502",
   "metadata": {},
   "outputs": [
    {
     "data": {
      "image/png": "[encoded data removed]",
      "text/plain": [
       "<Figure size 360x360 with 1 Axes>"
      ]
     },
     "metadata": {},
     "output_type": "display_data"
    }
   ],
   "source": [
    "p2 = focus_genes.plot(x='gene-symbol',y='number-of-reports',figsize=(5,5),kind='bar',color='black',fontsize=11,legend=False,rot=0)\n",
    "p2.bar_label(p2.containers[0],label_type='center',fontsize=11,color='white')\n",
    "\n",
    "p2.set_xlabel('Gene Symbol',fontsize=11)\n",
    "p2.set_ylabel('Number of Reports',fontsize=11)\n",
    "plt.tight_layout()\n",
    "\n",
    "plt.show()"
   ]
  },
  {
   "cell_type": "markdown",
   "id": "90a658d7",
   "metadata": {},
   "source": [
    "## Task 3"
   ]
  },
  {
   "cell_type": "code",
   "execution_count": 304,
   "id": "170cd6c7",
   "metadata": {},
   "outputs": [],
   "source": [
    "\n",
    "data_pubmed_byyear = np.empty((5,23))\n",
    "idlist_pubmed_byyear =[]\n",
    "years = np.arange(2000,2023,1) #no reports before 2000\n",
    "pmid_report= []\n",
    "for i in range(5):\n",
    "    gene = focus_genes_list[i]\n",
    "    for j in range(23):\n",
    "        year = years[j]\n",
    "        handle =Entrez.esearch(db=\"pubmed\",term=f\"({gene} AND (Autism Spectrum Disorder[mh]) AND ({year}[edat])\",retmax=1000)\n",
    "        # handle =Entrez.esearch(db=\"pubmed\",term=f\"({gene} protein, human[mh]) AND ({year}[edat])\")\n",
    "        record = Entrez.read(handle)\n",
    "        handle.close()\n",
    "        data_pubmed_byyear[i,j] = record[\"Count\"] # taking into account the count parameter\n",
    "        # data_pubmed_byyear[i,j] = len(record[\"IdList\"]) # I think SFARI uses something like this and without the retmax set.\n",
    "        \n",
    "        pmid_report.extend(record[\"IdList\"])\n",
    "        \n",
    "        for pmid in record[\"IdList\"]:\n",
    "            handle = Entrez.elink(dbfrom=\"pubmed\",linkname ='pubmed_pubmed_citedin',id=pmid)\n",
    "            record_ref = Entrez.read(handle)\n",
    "            handle.close()\n",
    "            if record_ref[0]['LinkSetDb'] != []:\n",
    "                idlist_pubmed_byyear.append([gene,year,pmid,len(record_ref[0]['LinkSetDb'][0][\"Link\"])])\n",
    "\n",
    "#UNCOMMENT TO ADD CITED IN DATA       \n",
    "#         for pmid in  record[\"IdList\"]:\n",
    "#             record = Entrez.read(Entrez.elink(dbfrom=\"pubmed\", id=pmid))\n",
    "#             for linksetdb in record[0][\"LinkSetDb\"]:\n",
    "#                 if linksetdb[\"LinkName\"] == \"pubmed_pubmed_citedin\":\n",
    "#                     idlist_pubmed_byyear.append([gene,year,pmid,len(linksetdb[\"Link\"])])\n",
    " \n",
    "np.savetxt('csv/task3_table.csv',np.c_[focus_genes_list,data_pubmed_byyear],header=\"Gene Symbol,\"+\",\".join(map(str, years)),delimiter=\",\",fmt='%s',comments='')                 \n",
    "np.savetxt('csv/task3_citation.csv',idlist_pubmed_byyear,header=\"Gene Symbol,Year,PubMed ID,Cited In\",delimiter=\",\",fmt='%s',comments='')\n",
    "np.savetxt('csv/pmid_report.csv',pmid_report,header='pmid',comments='',fmt='%s')                     \n"
   ]
  },
  {
   "cell_type": "code",
   "execution_count": null,
   "id": "9d159a4c",
   "metadata": {},
   "outputs": [],
   "source": []
  },
  {
   "cell_type": "markdown",
   "id": "031577a5",
   "metadata": {},
   "source": [
    "## Task 4"
   ]
  },
  {
   "cell_type": "code",
   "execution_count": 330,
   "id": "9ae379b0",
   "metadata": {},
   "outputs": [
    {
     "data": {
      "text/html": [
       "<div>\n",
       "<style scoped>\n",
       "    .dataframe tbody tr th:only-of-type {\n",
       "        vertical-align: middle;\n",
       "    }\n",
       "\n",
       "    .dataframe tbody tr th {\n",
       "        vertical-align: top;\n",
       "    }\n",
       "\n",
       "    .dataframe thead th {\n",
       "        text-align: right;\n",
       "    }\n",
       "</style>\n",
       "<table border=\"1\" class=\"dataframe\">\n",
       "  <thead>\n",
       "    <tr style=\"text-align: right;\">\n",
       "      <th></th>\n",
       "      <th>Gene Symbol</th>\n",
       "      <th>2000</th>\n",
       "      <th>2001</th>\n",
       "      <th>2002</th>\n",
       "      <th>2003</th>\n",
       "      <th>2004</th>\n",
       "      <th>2005</th>\n",
       "      <th>2006</th>\n",
       "      <th>2007</th>\n",
       "      <th>2008</th>\n",
       "      <th>...</th>\n",
       "      <th>2013</th>\n",
       "      <th>2014</th>\n",
       "      <th>2015</th>\n",
       "      <th>2016</th>\n",
       "      <th>2017</th>\n",
       "      <th>2018</th>\n",
       "      <th>2019</th>\n",
       "      <th>2020</th>\n",
       "      <th>2021</th>\n",
       "      <th>2022</th>\n",
       "    </tr>\n",
       "  </thead>\n",
       "  <tbody>\n",
       "    <tr>\n",
       "      <th>0</th>\n",
       "      <td>SHANK3</td>\n",
       "      <td>0.0</td>\n",
       "      <td>0.0</td>\n",
       "      <td>0.0</td>\n",
       "      <td>0.0</td>\n",
       "      <td>0.0</td>\n",
       "      <td>1.0</td>\n",
       "      <td>1.0</td>\n",
       "      <td>2.0</td>\n",
       "      <td>6.0</td>\n",
       "      <td>...</td>\n",
       "      <td>3.0</td>\n",
       "      <td>2.0</td>\n",
       "      <td>5.0</td>\n",
       "      <td>14.0</td>\n",
       "      <td>7.0</td>\n",
       "      <td>9.0</td>\n",
       "      <td>12.0</td>\n",
       "      <td>9.0</td>\n",
       "      <td>12.0</td>\n",
       "      <td>20.0</td>\n",
       "    </tr>\n",
       "    <tr>\n",
       "      <th>1</th>\n",
       "      <td>MECP2</td>\n",
       "      <td>2.0</td>\n",
       "      <td>1.0</td>\n",
       "      <td>2.0</td>\n",
       "      <td>4.0</td>\n",
       "      <td>4.0</td>\n",
       "      <td>3.0</td>\n",
       "      <td>4.0</td>\n",
       "      <td>7.0</td>\n",
       "      <td>4.0</td>\n",
       "      <td>...</td>\n",
       "      <td>3.0</td>\n",
       "      <td>2.0</td>\n",
       "      <td>5.0</td>\n",
       "      <td>12.0</td>\n",
       "      <td>8.0</td>\n",
       "      <td>1.0</td>\n",
       "      <td>4.0</td>\n",
       "      <td>8.0</td>\n",
       "      <td>3.0</td>\n",
       "      <td>5.0</td>\n",
       "    </tr>\n",
       "    <tr>\n",
       "      <th>2</th>\n",
       "      <td>NRXN1</td>\n",
       "      <td>0.0</td>\n",
       "      <td>0.0</td>\n",
       "      <td>0.0</td>\n",
       "      <td>0.0</td>\n",
       "      <td>0.0</td>\n",
       "      <td>0.0</td>\n",
       "      <td>0.0</td>\n",
       "      <td>3.0</td>\n",
       "      <td>2.0</td>\n",
       "      <td>...</td>\n",
       "      <td>7.0</td>\n",
       "      <td>3.0</td>\n",
       "      <td>2.0</td>\n",
       "      <td>3.0</td>\n",
       "      <td>3.0</td>\n",
       "      <td>4.0</td>\n",
       "      <td>7.0</td>\n",
       "      <td>5.0</td>\n",
       "      <td>7.0</td>\n",
       "      <td>5.0</td>\n",
       "    </tr>\n",
       "    <tr>\n",
       "      <th>3</th>\n",
       "      <td>SCN2A</td>\n",
       "      <td>0.0</td>\n",
       "      <td>0.0</td>\n",
       "      <td>0.0</td>\n",
       "      <td>1.0</td>\n",
       "      <td>2.0</td>\n",
       "      <td>0.0</td>\n",
       "      <td>0.0</td>\n",
       "      <td>0.0</td>\n",
       "      <td>1.0</td>\n",
       "      <td>...</td>\n",
       "      <td>1.0</td>\n",
       "      <td>1.0</td>\n",
       "      <td>2.0</td>\n",
       "      <td>3.0</td>\n",
       "      <td>2.0</td>\n",
       "      <td>3.0</td>\n",
       "      <td>4.0</td>\n",
       "      <td>6.0</td>\n",
       "      <td>6.0</td>\n",
       "      <td>6.0</td>\n",
       "    </tr>\n",
       "    <tr>\n",
       "      <th>4</th>\n",
       "      <td>SCN1A</td>\n",
       "      <td>0.0</td>\n",
       "      <td>0.0</td>\n",
       "      <td>0.0</td>\n",
       "      <td>1.0</td>\n",
       "      <td>3.0</td>\n",
       "      <td>0.0</td>\n",
       "      <td>0.0</td>\n",
       "      <td>0.0</td>\n",
       "      <td>0.0</td>\n",
       "      <td>...</td>\n",
       "      <td>1.0</td>\n",
       "      <td>0.0</td>\n",
       "      <td>1.0</td>\n",
       "      <td>3.0</td>\n",
       "      <td>0.0</td>\n",
       "      <td>1.0</td>\n",
       "      <td>1.0</td>\n",
       "      <td>4.0</td>\n",
       "      <td>5.0</td>\n",
       "      <td>1.0</td>\n",
       "    </tr>\n",
       "  </tbody>\n",
       "</table>\n",
       "<p>5 rows × 24 columns</p>\n",
       "</div>"
      ],
      "text/plain": [
       "  Gene Symbol  2000  2001  2002  2003  2004  2005  2006  2007  2008  ...  \\\n",
       "0      SHANK3   0.0   0.0   0.0   0.0   0.0   1.0   1.0   2.0   6.0  ...   \n",
       "1       MECP2   2.0   1.0   2.0   4.0   4.0   3.0   4.0   7.0   4.0  ...   \n",
       "2       NRXN1   0.0   0.0   0.0   0.0   0.0   0.0   0.0   3.0   2.0  ...   \n",
       "3       SCN2A   0.0   0.0   0.0   1.0   2.0   0.0   0.0   0.0   1.0  ...   \n",
       "4       SCN1A   0.0   0.0   0.0   1.0   3.0   0.0   0.0   0.0   0.0  ...   \n",
       "\n",
       "   2013  2014  2015  2016  2017  2018  2019  2020  2021  2022  \n",
       "0   3.0   2.0   5.0  14.0   7.0   9.0  12.0   9.0  12.0  20.0  \n",
       "1   3.0   2.0   5.0  12.0   8.0   1.0   4.0   8.0   3.0   5.0  \n",
       "2   7.0   3.0   2.0   3.0   3.0   4.0   7.0   5.0   7.0   5.0  \n",
       "3   1.0   1.0   2.0   3.0   2.0   3.0   4.0   6.0   6.0   6.0  \n",
       "4   1.0   0.0   1.0   3.0   0.0   1.0   1.0   4.0   5.0   1.0  \n",
       "\n",
       "[5 rows x 24 columns]"
      ]
     },
     "execution_count": 330,
     "metadata": {},
     "output_type": "execute_result"
    }
   ],
   "source": [
    "PubMed_table_data = pd.read_csv('task3_table_rt.csv')\n",
    "PubMed_table_data"
   ]
  },
  {
   "cell_type": "code",
   "execution_count": 331,
   "id": "8e38d00a",
   "metadata": {},
   "outputs": [],
   "source": [
    "PubMed_table_data_T = PubMed_table_data.set_index('Gene Symbol').T.reset_index()\n",
    "Total_count = PubMed_table_data_T.astype(int).sum()\n",
    "\n",
    "label_names = (Total_count.keys() +\" - \"+ Total_count.values.astype(str)).to_list()\n",
    "label_names[0] = \"Year\"\n",
    "\n",
    "PubMed_table_data_T.columns = label_names\n",
    "# PubMed_table_data.style.to_latex(\n",
    "#     position='h!',label=\"PubMed_byYear_table\",\n",
    "#     caption=\"Number of PubMed Reports over the Years for the Top 5 Genes in SFARI Category 1. There are no reports before 2000\",\n",
    "#     position_float=\"centering\",multicol_align=\"|c|\")"
   ]
  },
  {
   "cell_type": "code",
   "execution_count": 332,
   "id": "a0c868e3",
   "metadata": {},
   "outputs": [
    {
     "data": {
      "text/html": [
       "<div>\n",
       "<style scoped>\n",
       "    .dataframe tbody tr th:only-of-type {\n",
       "        vertical-align: middle;\n",
       "    }\n",
       "\n",
       "    .dataframe tbody tr th {\n",
       "        vertical-align: top;\n",
       "    }\n",
       "\n",
       "    .dataframe thead th {\n",
       "        text-align: right;\n",
       "    }\n",
       "</style>\n",
       "<table border=\"1\" class=\"dataframe\">\n",
       "  <thead>\n",
       "    <tr style=\"text-align: right;\">\n",
       "      <th></th>\n",
       "      <th>Year</th>\n",
       "      <th>SHANK3 - 120</th>\n",
       "      <th>MECP2 - 107</th>\n",
       "      <th>NRXN1 - 63</th>\n",
       "      <th>SCN2A - 40</th>\n",
       "      <th>SCN1A - 22</th>\n",
       "    </tr>\n",
       "  </thead>\n",
       "  <tbody>\n",
       "    <tr>\n",
       "      <th>0</th>\n",
       "      <td>2000</td>\n",
       "      <td>0.0</td>\n",
       "      <td>2.0</td>\n",
       "      <td>0.0</td>\n",
       "      <td>0.0</td>\n",
       "      <td>0.0</td>\n",
       "    </tr>\n",
       "    <tr>\n",
       "      <th>1</th>\n",
       "      <td>2001</td>\n",
       "      <td>0.0</td>\n",
       "      <td>1.0</td>\n",
       "      <td>0.0</td>\n",
       "      <td>0.0</td>\n",
       "      <td>0.0</td>\n",
       "    </tr>\n",
       "    <tr>\n",
       "      <th>2</th>\n",
       "      <td>2002</td>\n",
       "      <td>0.0</td>\n",
       "      <td>2.0</td>\n",
       "      <td>0.0</td>\n",
       "      <td>0.0</td>\n",
       "      <td>0.0</td>\n",
       "    </tr>\n",
       "    <tr>\n",
       "      <th>3</th>\n",
       "      <td>2003</td>\n",
       "      <td>0.0</td>\n",
       "      <td>4.0</td>\n",
       "      <td>0.0</td>\n",
       "      <td>1.0</td>\n",
       "      <td>1.0</td>\n",
       "    </tr>\n",
       "    <tr>\n",
       "      <th>4</th>\n",
       "      <td>2004</td>\n",
       "      <td>0.0</td>\n",
       "      <td>4.0</td>\n",
       "      <td>0.0</td>\n",
       "      <td>2.0</td>\n",
       "      <td>3.0</td>\n",
       "    </tr>\n",
       "    <tr>\n",
       "      <th>5</th>\n",
       "      <td>2005</td>\n",
       "      <td>1.0</td>\n",
       "      <td>3.0</td>\n",
       "      <td>0.0</td>\n",
       "      <td>0.0</td>\n",
       "      <td>0.0</td>\n",
       "    </tr>\n",
       "    <tr>\n",
       "      <th>6</th>\n",
       "      <td>2006</td>\n",
       "      <td>1.0</td>\n",
       "      <td>4.0</td>\n",
       "      <td>0.0</td>\n",
       "      <td>0.0</td>\n",
       "      <td>0.0</td>\n",
       "    </tr>\n",
       "    <tr>\n",
       "      <th>7</th>\n",
       "      <td>2007</td>\n",
       "      <td>2.0</td>\n",
       "      <td>7.0</td>\n",
       "      <td>3.0</td>\n",
       "      <td>0.0</td>\n",
       "      <td>0.0</td>\n",
       "    </tr>\n",
       "    <tr>\n",
       "      <th>8</th>\n",
       "      <td>2008</td>\n",
       "      <td>6.0</td>\n",
       "      <td>4.0</td>\n",
       "      <td>2.0</td>\n",
       "      <td>1.0</td>\n",
       "      <td>0.0</td>\n",
       "    </tr>\n",
       "    <tr>\n",
       "      <th>9</th>\n",
       "      <td>2009</td>\n",
       "      <td>3.0</td>\n",
       "      <td>10.0</td>\n",
       "      <td>6.0</td>\n",
       "      <td>0.0</td>\n",
       "      <td>0.0</td>\n",
       "    </tr>\n",
       "    <tr>\n",
       "      <th>10</th>\n",
       "      <td>2010</td>\n",
       "      <td>4.0</td>\n",
       "      <td>4.0</td>\n",
       "      <td>1.0</td>\n",
       "      <td>1.0</td>\n",
       "      <td>0.0</td>\n",
       "    </tr>\n",
       "    <tr>\n",
       "      <th>11</th>\n",
       "      <td>2011</td>\n",
       "      <td>6.0</td>\n",
       "      <td>7.0</td>\n",
       "      <td>2.0</td>\n",
       "      <td>0.0</td>\n",
       "      <td>0.0</td>\n",
       "    </tr>\n",
       "    <tr>\n",
       "      <th>12</th>\n",
       "      <td>2012</td>\n",
       "      <td>4.0</td>\n",
       "      <td>4.0</td>\n",
       "      <td>3.0</td>\n",
       "      <td>1.0</td>\n",
       "      <td>1.0</td>\n",
       "    </tr>\n",
       "    <tr>\n",
       "      <th>13</th>\n",
       "      <td>2013</td>\n",
       "      <td>3.0</td>\n",
       "      <td>3.0</td>\n",
       "      <td>7.0</td>\n",
       "      <td>1.0</td>\n",
       "      <td>1.0</td>\n",
       "    </tr>\n",
       "    <tr>\n",
       "      <th>14</th>\n",
       "      <td>2014</td>\n",
       "      <td>2.0</td>\n",
       "      <td>2.0</td>\n",
       "      <td>3.0</td>\n",
       "      <td>1.0</td>\n",
       "      <td>0.0</td>\n",
       "    </tr>\n",
       "    <tr>\n",
       "      <th>15</th>\n",
       "      <td>2015</td>\n",
       "      <td>5.0</td>\n",
       "      <td>5.0</td>\n",
       "      <td>2.0</td>\n",
       "      <td>2.0</td>\n",
       "      <td>1.0</td>\n",
       "    </tr>\n",
       "    <tr>\n",
       "      <th>16</th>\n",
       "      <td>2016</td>\n",
       "      <td>14.0</td>\n",
       "      <td>12.0</td>\n",
       "      <td>3.0</td>\n",
       "      <td>3.0</td>\n",
       "      <td>3.0</td>\n",
       "    </tr>\n",
       "    <tr>\n",
       "      <th>17</th>\n",
       "      <td>2017</td>\n",
       "      <td>7.0</td>\n",
       "      <td>8.0</td>\n",
       "      <td>3.0</td>\n",
       "      <td>2.0</td>\n",
       "      <td>0.0</td>\n",
       "    </tr>\n",
       "    <tr>\n",
       "      <th>18</th>\n",
       "      <td>2018</td>\n",
       "      <td>9.0</td>\n",
       "      <td>1.0</td>\n",
       "      <td>4.0</td>\n",
       "      <td>3.0</td>\n",
       "      <td>1.0</td>\n",
       "    </tr>\n",
       "    <tr>\n",
       "      <th>19</th>\n",
       "      <td>2019</td>\n",
       "      <td>12.0</td>\n",
       "      <td>4.0</td>\n",
       "      <td>7.0</td>\n",
       "      <td>4.0</td>\n",
       "      <td>1.0</td>\n",
       "    </tr>\n",
       "    <tr>\n",
       "      <th>20</th>\n",
       "      <td>2020</td>\n",
       "      <td>9.0</td>\n",
       "      <td>8.0</td>\n",
       "      <td>5.0</td>\n",
       "      <td>6.0</td>\n",
       "      <td>4.0</td>\n",
       "    </tr>\n",
       "    <tr>\n",
       "      <th>21</th>\n",
       "      <td>2021</td>\n",
       "      <td>12.0</td>\n",
       "      <td>3.0</td>\n",
       "      <td>7.0</td>\n",
       "      <td>6.0</td>\n",
       "      <td>5.0</td>\n",
       "    </tr>\n",
       "    <tr>\n",
       "      <th>22</th>\n",
       "      <td>2022</td>\n",
       "      <td>20.0</td>\n",
       "      <td>5.0</td>\n",
       "      <td>5.0</td>\n",
       "      <td>6.0</td>\n",
       "      <td>1.0</td>\n",
       "    </tr>\n",
       "  </tbody>\n",
       "</table>\n",
       "</div>"
      ],
      "text/plain": [
       "    Year  SHANK3 - 120  MECP2 - 107  NRXN1 - 63  SCN2A - 40  SCN1A - 22\n",
       "0   2000           0.0          2.0         0.0         0.0         0.0\n",
       "1   2001           0.0          1.0         0.0         0.0         0.0\n",
       "2   2002           0.0          2.0         0.0         0.0         0.0\n",
       "3   2003           0.0          4.0         0.0         1.0         1.0\n",
       "4   2004           0.0          4.0         0.0         2.0         3.0\n",
       "5   2005           1.0          3.0         0.0         0.0         0.0\n",
       "6   2006           1.0          4.0         0.0         0.0         0.0\n",
       "7   2007           2.0          7.0         3.0         0.0         0.0\n",
       "8   2008           6.0          4.0         2.0         1.0         0.0\n",
       "9   2009           3.0         10.0         6.0         0.0         0.0\n",
       "10  2010           4.0          4.0         1.0         1.0         0.0\n",
       "11  2011           6.0          7.0         2.0         0.0         0.0\n",
       "12  2012           4.0          4.0         3.0         1.0         1.0\n",
       "13  2013           3.0          3.0         7.0         1.0         1.0\n",
       "14  2014           2.0          2.0         3.0         1.0         0.0\n",
       "15  2015           5.0          5.0         2.0         2.0         1.0\n",
       "16  2016          14.0         12.0         3.0         3.0         3.0\n",
       "17  2017           7.0          8.0         3.0         2.0         0.0\n",
       "18  2018           9.0          1.0         4.0         3.0         1.0\n",
       "19  2019          12.0          4.0         7.0         4.0         1.0\n",
       "20  2020           9.0          8.0         5.0         6.0         4.0\n",
       "21  2021          12.0          3.0         7.0         6.0         5.0\n",
       "22  2022          20.0          5.0         5.0         6.0         1.0"
      ]
     },
     "execution_count": 332,
     "metadata": {},
     "output_type": "execute_result"
    }
   ],
   "source": [
    "PubMed_table_data_T\n"
   ]
  },
  {
   "cell_type": "markdown",
   "id": "b0327a22",
   "metadata": {},
   "source": [
    "## Task 5"
   ]
  },
  {
   "cell_type": "code",
   "execution_count": 333,
   "id": "2178d4a8",
   "metadata": {},
   "outputs": [
    {
     "data": {
      "image/png": "[encoded data removed]",
      "text/plain": [
       "<Figure size 360x360 with 1 Axes>"
      ]
     },
     "metadata": {},
     "output_type": "display_data"
    }
   ],
   "source": [
    "years = np.arange(2000,2023,1)\n",
    "PubMedHist = PubMed_table_data_T.plot.bar(x='Year', figsize=(5,5),fontsize=11,stacked = True)\n",
    "# PubMedHist.bar_label(PubMedHist.containers[0])\n",
    "PubMedHist.set_xlabel('Year',fontsize=11)\n",
    "PubMedHist.set_ylabel('Number of Reports',fontsize=11)\n",
    "plt.tight_layout()\n",
    "plt.legend(title=\"Gene Symbol - Total Reports\")\n",
    "plt.savefig('plots/pubmed-hist-1.png')\n",
    "plt.show()\n",
    "\n"
   ]
  },
  {
   "cell_type": "markdown",
   "id": "3041943f",
   "metadata": {},
   "source": [
    "https://gene.sfari.org/user-guide/human-gene-module/"
   ]
  },
  {
   "cell_type": "markdown",
   "id": "4b6cbee2",
   "metadata": {},
   "source": [
    "## Analysis"
   ]
  },
  {
   "cell_type": "code",
   "execution_count": 309,
   "id": "705bf20f",
   "metadata": {},
   "outputs": [],
   "source": [
    "np.savetxt('csv/task3_citation.csv',idlist_pubmed_byyear,header=\"Gene Symbol,Year,PubMed ID,Cited In\",delimiter=\",\",fmt='%s',comments='')"
   ]
  },
  {
   "cell_type": "code",
   "execution_count": 312,
   "id": "358ca864",
   "metadata": {},
   "outputs": [
    {
     "data": {
      "text/html": [
       "<div>\n",
       "<style scoped>\n",
       "    .dataframe tbody tr th:only-of-type {\n",
       "        vertical-align: middle;\n",
       "    }\n",
       "\n",
       "    .dataframe tbody tr th {\n",
       "        vertical-align: top;\n",
       "    }\n",
       "\n",
       "    .dataframe thead th {\n",
       "        text-align: right;\n",
       "    }\n",
       "</style>\n",
       "<table border=\"1\" class=\"dataframe\">\n",
       "  <thead>\n",
       "    <tr style=\"text-align: right;\">\n",
       "      <th></th>\n",
       "      <th>index</th>\n",
       "      <th>Gene Symbol</th>\n",
       "      <th>Year</th>\n",
       "      <th>PubMed ID</th>\n",
       "      <th>Cited In</th>\n",
       "    </tr>\n",
       "  </thead>\n",
       "  <tbody>\n",
       "    <tr>\n",
       "      <th>0</th>\n",
       "      <td>491</td>\n",
       "      <td>SCN1A</td>\n",
       "      <td>2012</td>\n",
       "      <td>22495309</td>\n",
       "      <td>1093</td>\n",
       "    </tr>\n",
       "    <tr>\n",
       "      <th>1</th>\n",
       "      <td>441</td>\n",
       "      <td>SCN2A</td>\n",
       "      <td>2012</td>\n",
       "      <td>22495306</td>\n",
       "      <td>1030</td>\n",
       "    </tr>\n",
       "    <tr>\n",
       "      <th>2</th>\n",
       "      <td>10</td>\n",
       "      <td>SHANK3</td>\n",
       "      <td>2008</td>\n",
       "      <td>18252227</td>\n",
       "      <td>832</td>\n",
       "    </tr>\n",
       "    <tr>\n",
       "      <th>3</th>\n",
       "      <td>369</td>\n",
       "      <td>NRXN1</td>\n",
       "      <td>2008</td>\n",
       "      <td>18252227</td>\n",
       "      <td>832</td>\n",
       "    </tr>\n",
       "    <tr>\n",
       "      <th>4</th>\n",
       "      <td>1</td>\n",
       "      <td>SHANK3</td>\n",
       "      <td>2006</td>\n",
       "      <td>17173049</td>\n",
       "      <td>682</td>\n",
       "    </tr>\n",
       "    <tr>\n",
       "      <th>5</th>\n",
       "      <td>377</td>\n",
       "      <td>NRXN1</td>\n",
       "      <td>2009</td>\n",
       "      <td>19404257</td>\n",
       "      <td>675</td>\n",
       "    </tr>\n",
       "  </tbody>\n",
       "</table>\n",
       "</div>"
      ],
      "text/plain": [
       "   index Gene Symbol  Year  PubMed ID  Cited In\n",
       "0    491       SCN1A  2012   22495309      1093\n",
       "1    441       SCN2A  2012   22495306      1030\n",
       "2     10      SHANK3  2008   18252227       832\n",
       "3    369       NRXN1  2008   18252227       832\n",
       "4      1      SHANK3  2006   17173049       682\n",
       "5    377       NRXN1  2009   19404257       675"
      ]
     },
     "execution_count": 312,
     "metadata": {},
     "output_type": "execute_result"
    }
   ],
   "source": [
    "PubMed_cite = pd.read_csv('csv/task3_citation.csv').sort_values('Cited In',ascending=False).reset_index()\n",
    "highly_cited = PubMed_cite.nlargest(6,'Cited In')\n",
    "# PubMed_cite.loc[PubMed_cite['PubMed ID'] == highly_cited['PubMed ID'].values[4]]\n",
    "highly_cited"
   ]
  },
  {
   "cell_type": "code",
   "execution_count": 315,
   "id": "617d3fab",
   "metadata": {},
   "outputs": [
    {
     "data": {
      "text/html": [
       "<div>\n",
       "<style scoped>\n",
       "    .dataframe tbody tr th:only-of-type {\n",
       "        vertical-align: middle;\n",
       "    }\n",
       "\n",
       "    .dataframe tbody tr th {\n",
       "        vertical-align: top;\n",
       "    }\n",
       "\n",
       "    .dataframe thead th {\n",
       "        text-align: right;\n",
       "    }\n",
       "</style>\n",
       "<table border=\"1\" class=\"dataframe\">\n",
       "  <thead>\n",
       "    <tr style=\"text-align: right;\">\n",
       "      <th></th>\n",
       "      <th>Paper</th>\n",
       "      <th>Year</th>\n",
       "      <th>Gene Symbol</th>\n",
       "      <th>Cited In</th>\n",
       "    </tr>\n",
       "  </thead>\n",
       "  <tbody>\n",
       "    <tr>\n",
       "      <th>0</th>\n",
       "      <td>O'Roak et al.</td>\n",
       "      <td>2012</td>\n",
       "      <td>SCN1A</td>\n",
       "      <td>1093</td>\n",
       "    </tr>\n",
       "    <tr>\n",
       "      <th>1</th>\n",
       "      <td>Sanders et al.</td>\n",
       "      <td>2012</td>\n",
       "      <td>SCN2A</td>\n",
       "      <td>1030</td>\n",
       "    </tr>\n",
       "    <tr>\n",
       "      <th>2</th>\n",
       "      <td>Marshall et al.</td>\n",
       "      <td>2008</td>\n",
       "      <td>SHANK3</td>\n",
       "      <td>832</td>\n",
       "    </tr>\n",
       "    <tr>\n",
       "      <th>3</th>\n",
       "      <td>Marshall et al.</td>\n",
       "      <td>2008</td>\n",
       "      <td>NRXN1</td>\n",
       "      <td>832</td>\n",
       "    </tr>\n",
       "    <tr>\n",
       "      <th>4</th>\n",
       "      <td>Durand et al.</td>\n",
       "      <td>2006</td>\n",
       "      <td>SHANK3</td>\n",
       "      <td>682</td>\n",
       "    </tr>\n",
       "    <tr>\n",
       "      <th>5</th>\n",
       "      <td>Glessner et al.</td>\n",
       "      <td>2009</td>\n",
       "      <td>NRXN1</td>\n",
       "      <td>675</td>\n",
       "    </tr>\n",
       "  </tbody>\n",
       "</table>\n",
       "</div>"
      ],
      "text/plain": [
       "             Paper  Year Gene Symbol  Cited In\n",
       "0    O'Roak et al.  2012       SCN1A      1093\n",
       "1   Sanders et al.  2012       SCN2A      1030\n",
       "2  Marshall et al.  2008      SHANK3       832\n",
       "3  Marshall et al.  2008       NRXN1       832\n",
       "4    Durand et al.  2006      SHANK3       682\n",
       "5  Glessner et al.  2009       NRXN1       675"
      ]
     },
     "execution_count": 315,
     "metadata": {},
     "output_type": "execute_result"
    }
   ],
   "source": [
    "name = [\"O'Roak et al.\",\"Sanders et al.\",\"Marshall et al.\",\"Marshall et al.\",'Durand et al.',\"Glessner et al.\"]\n",
    "highly_cited[\"Paper\"] = name\n",
    "highly_cited = highly_cited[['Paper','Year','Gene Symbol','Cited In']]\n",
    "highly_cited"
   ]
  },
  {
   "cell_type": "markdown",
   "id": "a857baca",
   "metadata": {},
   "source": [
    "O' Roak et al. - 10.1038/nature10989 - Sporadic autism exomes reveal a highly interconnected protein network of de novo mutations. Sporadic ASD Experimental comparsion. CNV\n",
    "\n",
    "Sanders et al. - 10.1038/nature10945 - Among a total of 279 identified de novo coding mutations, there is a single instance in probands, and none in siblings, in which two independent nonsense variants disrupt the same gene, SCN2A (sodium channel, voltage-gated, type II, α subunit), a result that is highly unlikely by chance.\n",
    "\n",
    "Marshall et al. - 10.1016/j.ajhg.2007.12.009- Structural variants were found in sufficiently high frequency influencing ASD to suggest that cytogenetic and microarray analyses be considered in routine clinical workup.\n",
    "\n",
    "Durand et al. - 10.1038/ng1933 - In this paper, we report evidence showing that abnormal gene dosage of SHANK3 is associated with severe cognitive deficits, including language and speech disorder and ASD. deletion\n",
    "\n",
    "Glessner et al. - 10.1038/nature07953  Although these variants may be individually rare, they target genes involved in neuronal cell-adhesion or ubiquitin degradation, indicating that these two important gene networks expressed within the central nervous system may contribute to the genetic susceptibility of ASD.\n",
    "\n",
    "\n",
    "https://pubmed.ncbi.nlm.nih.gov/26511836/ SHANK3 drug\n",
    "\n",
    "MECP2 drug\n",
    "\n",
    "1. SCN1A and 2A are well documented because of their relation to epilepsy.\n",
    "2. \n"
   ]
  },
  {
   "cell_type": "code",
   "execution_count": 316,
   "id": "f7ef9bfe",
   "metadata": {},
   "outputs": [
    {
     "name": "stdout",
     "output_type": "stream",
     "text": [
      "\\begin{table}\n",
      "\\centering\n",
      "\\caption{Table of ASD related PubMed Report counts for genes for each year from 2000 to 2022.}\n",
      "\\begin{tabular}{lrlr}\n",
      "\\toprule\n",
      "          Paper &  Year & Gene Symbol &  Cited In \\\\\n",
      "\\midrule\n",
      "  O'Roak et al. &  2012 &       SCN1A &      1093 \\\\\n",
      " Sanders et al. &  2012 &       SCN2A &      1030 \\\\\n",
      "Marshall et al. &  2008 &      SHANK3 &       832 \\\\\n",
      "Marshall et al. &  2008 &       NRXN1 &       832 \\\\\n",
      "  Durand et al. &  2006 &      SHANK3 &       682 \\\\\n",
      "Glessner et al. &  2009 &       NRXN1 &       675 \\\\\n",
      "\\bottomrule\n",
      "\\end{tabular}\n",
      "\\end{table}\n",
      "\n"
     ]
    },
    {
     "name": "stderr",
     "output_type": "stream",
     "text": [
      "/var/folders/2f/y14hzqx53r56d9npnh5jl95m0000gp/T/ipykernel_53676/3771239504.py:1: FutureWarning: In future versions `DataFrame.to_latex` is expected to utilise the base implementation of `Styler.to_latex` for formatting and rendering. The arguments signature may therefore change. It is recommended instead to use `DataFrame.style.to_latex` which also contains additional functionality.\n",
      "  print(highly_cited.to_latex(index=False,multicolumn=True,caption='Table of ASD related PubMed Report counts for genes for each year from 2000 to 2022.'))\n"
     ]
    }
   ],
   "source": [
    "print(highly_cited.to_latex(index=False,multicolumn=True,caption='Table of ASD related PubMed Report counts for genes for each year from 2000 to 2022.'))"
   ]
  },
  {
   "cell_type": "code",
   "execution_count": 285,
   "id": "315a0c84",
   "metadata": {},
   "outputs": [
    {
     "data": {
      "text/plain": [
       "Gene Symbol\n",
       "MECP2      7509\n",
       "NRXN1      3243\n",
       "SCN1A       731\n",
       "SCN2A      2771\n",
       "SHANK3    12491\n",
       "Name: Cited In, dtype: int64"
      ]
     },
     "execution_count": 285,
     "metadata": {},
     "output_type": "execute_result"
    }
   ],
   "source": [
    "PubMed_cite.groupby(['Gene Symbol'])['Cited In'].sum()"
   ]
  },
  {
   "cell_type": "code",
   "execution_count": 286,
   "id": "e55ff62a",
   "metadata": {},
   "outputs": [
    {
     "name": "stdout",
     "output_type": "stream",
     "text": [
      "\\begin{table}\n",
      "\\centering\n",
      "\\caption{Table of ASD related PubMed Report counts for genes for each year from 2000 to 2022.}\n",
      "\\begin{tabular}{r}\n",
      "\\toprule\n",
      " Cited In \\\\\n",
      "     7509 \\\\\n",
      "\\midrule\n",
      "     3243 \\\\\n",
      "      731 \\\\\n",
      "     2771 \\\\\n",
      "    12491 \\\\\n",
      "\\bottomrule\n",
      "\\end{tabular}\n",
      "\\end{table}\n",
      "\n"
     ]
    },
    {
     "name": "stderr",
     "output_type": "stream",
     "text": [
      "/var/folders/2f/y14hzqx53r56d9npnh5jl95m0000gp/T/ipykernel_53676/38227247.py:1: FutureWarning: In future versions `DataFrame.to_latex` is expected to utilise the base implementation of `Styler.to_latex` for formatting and rendering. The arguments signature may therefore change. It is recommended instead to use `DataFrame.style.to_latex` which also contains additional functionality.\n",
      "  print(PubMed_cite.groupby(['Gene Symbol'])['Cited In'].sum().to_latex(index=False,multicolumn=True,caption='Table of ASD related PubMed Report counts for genes for each year from 2000 to 2022.'))\n"
     ]
    }
   ],
   "source": [
    "print(PubMed_cite.groupby(['Gene Symbol'])['Cited In'].sum().to_latex(index=False,multicolumn=True,caption='Table of ASD related PubMed Report counts for genes for each year from 2000 to 2022.'))\n"
   ]
  },
  {
   "cell_type": "markdown",
   "id": "3fab97e7",
   "metadata": {},
   "source": [
    "## Co-citation Analysis"
   ]
  },
  {
   "cell_type": "code",
   "execution_count": 287,
   "id": "83dfa230",
   "metadata": {},
   "outputs": [],
   "source": [
    "pmids = pd.read_csv('csv/pmid_report.csv')\n"
   ]
  },
  {
   "cell_type": "code",
   "execution_count": 296,
   "id": "72d5d0fe",
   "metadata": {},
   "outputs": [],
   "source": [
    "citation_matrix = []\n",
    "\n",
    "for pmid in  pmids.values:\n",
    "      \n",
    "        cit = []\n",
    "        handle = Entrez.elink(dbfrom=\"pubmed\",linkname = 'pubmed_pubmed_refs',id=pmid)\n",
    "        record = Entrez.read(handle)\n",
    "        handle.close()\n",
    "    \n",
    "        if record[0]['LinkSetDb'] != []:\n",
    "            for json_id in (record[0]['LinkSetDb'][0]['Link']):\n",
    "                \n",
    "                cit.append(json_id['Id'])\n",
    "    \n",
    "        citation_matrix.append(cit)   \n",
    "\n",
    "        \n",
    "    "
   ]
  },
  {
   "cell_type": "code",
   "execution_count": 297,
   "id": "d65b6d34",
   "metadata": {},
   "outputs": [],
   "source": [
    "citation_matrix_N = np.asarray(citation_matrix,dtype=object)\n"
   ]
  },
  {
   "cell_type": "code",
   "execution_count": 298,
   "id": "bd8313ef",
   "metadata": {},
   "outputs": [
    {
     "data": {
      "text/plain": [
       "578"
      ]
     },
     "execution_count": 298,
     "metadata": {},
     "output_type": "execute_result"
    }
   ],
   "source": [
    "citation_matrix_N.size"
   ]
  },
  {
   "cell_type": "code",
   "execution_count": 299,
   "id": "e1f8953e",
   "metadata": {},
   "outputs": [],
   "source": [
    "np.savetxt('all_cited.txt',citation_matrix_N,fmt='%s',delimiter=',')"
   ]
  },
  {
   "cell_type": "code",
   "execution_count": 300,
   "id": "aad391f1",
   "metadata": {},
   "outputs": [],
   "source": [
    "unavail_paper_index =[]\n",
    "for i,j in enumerate(citation_matrix_N):\n",
    "    \n",
    "    if len(j) == 0:\n",
    "        unavail_paper_index.append(i)\n"
   ]
  },
  {
   "cell_type": "code",
   "execution_count": 301,
   "id": "32573b96",
   "metadata": {},
   "outputs": [
    {
     "data": {
      "text/plain": [
       "205"
      ]
     },
     "execution_count": 301,
     "metadata": {},
     "output_type": "execute_result"
    }
   ],
   "source": [
    "len(unavail_paper_index)"
   ]
  },
  {
   "cell_type": "markdown",
   "id": "0157c1d3",
   "metadata": {},
   "source": [
    "205 pmid dont have cite data out of 578"
   ]
  },
  {
   "cell_type": "code",
   "execution_count": 322,
   "id": "d3c12118",
   "metadata": {},
   "outputs": [
    {
     "data": {
      "text/plain": [
       "13795"
      ]
     },
     "execution_count": 322,
     "metadata": {},
     "output_type": "execute_result"
    }
   ],
   "source": [
    "f = np.concatenate(citation_matrix_N).ravel()\n",
    "\n",
    "f =np.unique(f,return_counts=True)\n",
    "\n",
    "ranking =np.argsort(f[1])[::-1]\n",
    "\n",
    "\n"
   ]
  },
  {
   "cell_type": "code",
   "execution_count": 323,
   "id": "9c0deb32",
   "metadata": {},
   "outputs": [],
   "source": [
    "np.savetxt('csv/cociteAnalysis.csv',np.c_[f[0][ranking],f[1][ranking],100*f[1][ranking]/len(f[1])\n",
    "],header=\"pmid cite-count cite-percent\",comments='',fmt='%s')"
   ]
  },
  {
   "cell_type": "code",
   "execution_count": 324,
   "id": "dc1938ca",
   "metadata": {},
   "outputs": [
    {
     "data": {
      "text/html": [
       "<div>\n",
       "<style scoped>\n",
       "    .dataframe tbody tr th:only-of-type {\n",
       "        vertical-align: middle;\n",
       "    }\n",
       "\n",
       "    .dataframe tbody tr th {\n",
       "        vertical-align: top;\n",
       "    }\n",
       "\n",
       "    .dataframe thead th {\n",
       "        text-align: right;\n",
       "    }\n",
       "</style>\n",
       "<table border=\"1\" class=\"dataframe\">\n",
       "  <thead>\n",
       "    <tr style=\"text-align: right;\">\n",
       "      <th></th>\n",
       "      <th>pmid</th>\n",
       "      <th>cite-count</th>\n",
       "      <th>cite-percent</th>\n",
       "    </tr>\n",
       "  </thead>\n",
       "  <tbody>\n",
       "    <tr>\n",
       "      <th>0</th>\n",
       "      <td>21423165</td>\n",
       "      <td>118</td>\n",
       "      <td>0.855382</td>\n",
       "    </tr>\n",
       "    <tr>\n",
       "      <th>1</th>\n",
       "      <td>17173049</td>\n",
       "      <td>115</td>\n",
       "      <td>0.833635</td>\n",
       "    </tr>\n",
       "    <tr>\n",
       "      <th>2</th>\n",
       "      <td>21167025</td>\n",
       "      <td>81</td>\n",
       "      <td>0.587169</td>\n",
       "    </tr>\n",
       "    <tr>\n",
       "      <th>3</th>\n",
       "      <td>21558424</td>\n",
       "      <td>79</td>\n",
       "      <td>0.572671</td>\n",
       "    </tr>\n",
       "    <tr>\n",
       "      <th>4</th>\n",
       "      <td>25188300</td>\n",
       "      <td>70</td>\n",
       "      <td>0.507430</td>\n",
       "    </tr>\n",
       "  </tbody>\n",
       "</table>\n",
       "</div>"
      ],
      "text/plain": [
       "       pmid  cite-count  cite-percent\n",
       "0  21423165         118      0.855382\n",
       "1  17173049         115      0.833635\n",
       "2  21167025          81      0.587169\n",
       "3  21558424          79      0.572671\n",
       "4  25188300          70      0.507430"
      ]
     },
     "execution_count": 324,
     "metadata": {},
     "output_type": "execute_result"
    }
   ],
   "source": [
    "cc = pd.read_csv('csv/cociteAnalysis.csv',delimiter=' ')\n",
    "top5 = cc[:5].copy()\n",
    "top5"
   ]
  },
  {
   "cell_type": "code",
   "execution_count": 328,
   "id": "5497896b",
   "metadata": {},
   "outputs": [],
   "source": [
    "top5['Paper'] = ['Peça et al.(2011)','Durand et al.(2007)','Bozdagi et al.(2011)','Wang et al.(2010)','Leblond et al.(2014)']\n",
    "top5['cite-percent'] =(top5['cite-percent']*100).astype(str) + '%' "
   ]
  },
  {
   "cell_type": "markdown",
   "id": "de504135",
   "metadata": {},
   "source": [
    "peca et al - 10.1038/nature09965 Here we show that mice with Shank3 gene deletions exhibit self-injurious repetitive grooming and deficits in social interaction.(2011)\n",
    "\n",
    "\n",
    "Durand et al. - 10.1038/ng1933  - Here, we report that a mutation of a single copy of SHANK3 on chromosome 22q13 can result in language and/or social communication disorders. These mutations concern only a small number of individuals,(2007)\n",
    "\n",
    "Bozdagi et al. - 10.1186/2040-2392-1-15 - We documented specific deficits in synaptic function and plasticity, along with reduced reciprocal social interactions in Shank3 heterozygous mice. Our results are consistent with altered synaptic development and function in Shank3 haploinsufficiency, highlighting the importance of Shank3 in synaptic function and supporting a link between deficits in synapse function and neurodevelopmental disorders. The reduced glutamatergic transmission that we observed in the Shank3 heterozygous mice represents an interesting therapeutic target in Shank3-haploinsufficiency syndromes.(2010)\n",
    "\n",
    "Wang et al. - 10.1093/hmg/ddr212 - We conclude that loss of major Shank3 species produces biochemical, cellular and morphological changes, leading to behavioral abnormalities in mice that bear similarities to human ASD patients with SHANK3 mutations. (2011)\n",
    "\n",
    "Leblond et al. - 10.1371/journal.pgen.1004580 - In summary, mutations of the SHANK genes were detected in the whole spectrum of autism with a gradient of severity in cognitive impairment. Given the rare frequency of SHANK1 and SHANK2 deleterious mutations, the clinical relevance of these genes remains to be ascertained. In contrast, the frequency and the penetrance of SHANK3 mutations in individuals with ASD and intellectual disability-more than 1 in 50-warrant its consideration for mutation screening in clinical practice. (2014 sep)\n",
    "\n",
    "\n"
   ]
  },
  {
   "cell_type": "code",
   "execution_count": 329,
   "id": "8f24a345",
   "metadata": {},
   "outputs": [
    {
     "data": {
      "text/html": [
       "<div>\n",
       "<style scoped>\n",
       "    .dataframe tbody tr th:only-of-type {\n",
       "        vertical-align: middle;\n",
       "    }\n",
       "\n",
       "    .dataframe tbody tr th {\n",
       "        vertical-align: top;\n",
       "    }\n",
       "\n",
       "    .dataframe thead th {\n",
       "        text-align: right;\n",
       "    }\n",
       "</style>\n",
       "<table border=\"1\" class=\"dataframe\">\n",
       "  <thead>\n",
       "    <tr style=\"text-align: right;\">\n",
       "      <th></th>\n",
       "      <th>pmid</th>\n",
       "      <th>cite-count</th>\n",
       "      <th>cite-percent</th>\n",
       "      <th>Paper</th>\n",
       "    </tr>\n",
       "  </thead>\n",
       "  <tbody>\n",
       "    <tr>\n",
       "      <th>0</th>\n",
       "      <td>21423165</td>\n",
       "      <td>118</td>\n",
       "      <td>0.8553823849220732%0.8553823849220732%0.855382...</td>\n",
       "      <td>Peça et al.(2011)</td>\n",
       "    </tr>\n",
       "    <tr>\n",
       "      <th>1</th>\n",
       "      <td>17173049</td>\n",
       "      <td>115</td>\n",
       "      <td>0.8336353751359188%0.8336353751359188%0.833635...</td>\n",
       "      <td>Durand et al.(2007)</td>\n",
       "    </tr>\n",
       "    <tr>\n",
       "      <th>2</th>\n",
       "      <td>21167025</td>\n",
       "      <td>81</td>\n",
       "      <td>0.5871692642261689%0.5871692642261689%0.587169...</td>\n",
       "      <td>Bozdagi et al.(2011)</td>\n",
       "    </tr>\n",
       "    <tr>\n",
       "      <th>3</th>\n",
       "      <td>21558424</td>\n",
       "      <td>79</td>\n",
       "      <td>0.572671257702066%0.572671257702066%0.57267125...</td>\n",
       "      <td>Wang et al.(2010)</td>\n",
       "    </tr>\n",
       "    <tr>\n",
       "      <th>4</th>\n",
       "      <td>25188300</td>\n",
       "      <td>70</td>\n",
       "      <td>0.5074302283436027%0.5074302283436027%0.507430...</td>\n",
       "      <td>Leblond et al.(2014)</td>\n",
       "    </tr>\n",
       "  </tbody>\n",
       "</table>\n",
       "</div>"
      ],
      "text/plain": [
       "       pmid  cite-count                                       cite-percent  \\\n",
       "0  21423165         118  0.8553823849220732%0.8553823849220732%0.855382...   \n",
       "1  17173049         115  0.8336353751359188%0.8336353751359188%0.833635...   \n",
       "2  21167025          81  0.5871692642261689%0.5871692642261689%0.587169...   \n",
       "3  21558424          79  0.572671257702066%0.572671257702066%0.57267125...   \n",
       "4  25188300          70  0.5074302283436027%0.5074302283436027%0.507430...   \n",
       "\n",
       "                  Paper  \n",
       "0     Peça et al.(2011)  \n",
       "1   Durand et al.(2007)  \n",
       "2  Bozdagi et al.(2011)  \n",
       "3     Wang et al.(2010)  \n",
       "4  Leblond et al.(2014)  "
      ]
     },
     "execution_count": 329,
     "metadata": {},
     "output_type": "execute_result"
    }
   ],
   "source": [
    "top5"
   ]
  },
  {
   "cell_type": "code",
   "execution_count": 327,
   "id": "83c044c2",
   "metadata": {},
   "outputs": [
    {
     "name": "stdout",
     "output_type": "stream",
     "text": [
      "\\begin{table}\n",
      "\\centering\n",
      "\\caption{Table of ASD related PubMed Report counts for genes for each year from 2000 to 2022.}\n",
      "\\begin{tabular}{ll}\n",
      "\\toprule\n",
      "               Paper &        cite-percent \\\\\n",
      "\\midrule\n",
      "   Peça et al.(2011) & 0.8553823849220732\\% \\\\\n",
      " Durand et al.(2007) & 0.8336353751359188\\% \\\\\n",
      "Bozdagi et al.(2011) & 0.5871692642261689\\% \\\\\n",
      "   Wang et al.(2010) &  0.572671257702066\\% \\\\\n",
      "Leblond et al.(2014) & 0.5074302283436027\\% \\\\\n",
      "\\bottomrule\n",
      "\\end{tabular}\n",
      "\\end{table}\n",
      "\n"
     ]
    },
    {
     "name": "stderr",
     "output_type": "stream",
     "text": [
      "/var/folders/2f/y14hzqx53r56d9npnh5jl95m0000gp/T/ipykernel_53676/414602516.py:1: FutureWarning: In future versions `DataFrame.to_latex` is expected to utilise the base implementation of `Styler.to_latex` for formatting and rendering. The arguments signature may therefore change. It is recommended instead to use `DataFrame.style.to_latex` which also contains additional functionality.\n",
      "  print(top5[['Paper','cite-percent']].to_latex(index=False,multicolumn=True,caption='Table of ASD related PubMed Report counts for genes for each year from 2000 to 2022.'))\n"
     ]
    }
   ],
   "source": [
    "print(top5[['Paper','cite-percent']].to_latex(index=False,multicolumn=True,caption='Table of ASD related PubMed Report counts for genes for each year from 2000 to 2022.'))\n"
   ]
  },
  {
   "cell_type": "code",
   "execution_count": null,
   "id": "913ce7d0",
   "metadata": {},
   "outputs": [],
   "source": []
  }
 ],
 "metadata": {
  "kernelspec": {
   "display_name": "Python 3.9.12 ('base')",
   "language": "python",
   "name": "python3"
  },
  "language_info": {
   "codemirror_mode": {
    "name": "ipython",
    "version": 3
   },
   "file_extension": ".py",
   "mimetype": "text/x-python",
   "name": "python",
   "nbconvert_exporter": "python",
   "pygments_lexer": "ipython3",
   "version": "3.9.12"
  },
  "vscode": {
   "interpreter": {
    "hash": "da53d38835faffea80e63966bc129948fc7e9b0cb1da538bc9c402bb169491d8"
   }
  }
 },
 "nbformat": 4,
 "nbformat_minor": 5
}
